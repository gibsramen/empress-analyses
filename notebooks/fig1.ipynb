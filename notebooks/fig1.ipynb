{
 "cells": [
  {
   "cell_type": "code",
   "execution_count": 1,
   "metadata": {},
   "outputs": [],
   "source": [
    "%matplotlib inline\n",
    "\n",
    "from biom import load_table\n",
    "import matplotlib.pyplot as plt\n",
    "import numpy as np\n",
    "import pandas as pd\n",
    "from qiime2 import Artifact, Metadata\n",
    "from qiime2.plugins import diversity, empress\n",
    "import scipy.stats as ss\n",
    "import seaborn as sns"
   ]
  },
  {
   "cell_type": "markdown",
   "metadata": {},
   "source": [
    "# Figure 1A - Full EMP Visualization\n",
    "\n",
    "This will walkthrough the procedure of generating the EMPire plot of the full EMP dataset."
   ]
  },
  {
   "cell_type": "code",
   "execution_count": 2,
   "metadata": {},
   "outputs": [],
   "source": [
    "# Clear the output directory and create a fresh one\n",
    "!rm -rf fig1/output\n",
    "!mkdir -p fig1/output"
   ]
  },
  {
   "cell_type": "markdown",
   "metadata": {},
   "source": [
    "## Downloading Required Data\n",
    "\n",
    "First, we will download the EMP data via FTP. Note that we do not include these files in the repository because they are fairly large."
   ]
  },
  {
   "cell_type": "code",
   "execution_count": 3,
   "metadata": {},
   "outputs": [
    {
     "name": "stdout",
     "output_type": "stream",
     "text": [
      "--2021-01-26 09:52:14--  ftp://ftp.microbio.me/emp/release1/otu_tables/deblur/emp_deblur_90bp.release1.biom\n",
      "           => ‘fig1/input/EMP_tbl.biom’\n",
      "Resolving ftp.microbio.me (ftp.microbio.me)... 169.228.46.98\n",
      "Connecting to ftp.microbio.me (ftp.microbio.me)|169.228.46.98|:21... connected.\n",
      "Logging in as anonymous ... Logged in!\n",
      "==> SYST ... done.    ==> PWD ... done.\n",
      "==> TYPE I ... done.  ==> CWD (1) /emp/release1/otu_tables/deblur ... done.\n",
      "==> SIZE emp_deblur_90bp.release1.biom ... 269396269\n",
      "==> PASV ... done.    ==> RETR emp_deblur_90bp.release1.biom ... done.\n",
      "Length: 269396269 (257M) (unauthoritative)\n",
      "\n",
      "emp_deblur_90bp.rel 100%[===================>] 256.92M  29.6MB/s    in 18s     \n",
      "\n",
      "2021-01-26 09:52:34 (14.0 MB/s) - ‘fig1/input/EMP_tbl.biom’ saved [269396269]\n",
      "\n"
     ]
    }
   ],
   "source": [
    "# EMP table\n",
    "!wget -O fig1/input/EMP_tbl.biom ftp://ftp.microbio.me/emp/release1/otu_tables/deblur/emp_deblur_90bp.release1.biom"
   ]
  },
  {
   "cell_type": "code",
   "execution_count": 4,
   "metadata": {},
   "outputs": [
    {
     "name": "stdout",
     "output_type": "stream",
     "text": [
      "--2021-01-26 09:52:34--  ftp://ftp.microbio.me/emp/release1/otu_info/deblur/emp90.5000_1000_rxbl_placement_pruned75.tog.tre\n",
      "           => ‘fig1/input/EMP_tree.tre’\n",
      "Resolving ftp.microbio.me (ftp.microbio.me)... 169.228.46.98\n",
      "Connecting to ftp.microbio.me (ftp.microbio.me)|169.228.46.98|:21... connected.\n",
      "Logging in as anonymous ... Logged in!\n",
      "==> SYST ... done.    ==> PWD ... done.\n",
      "==> TYPE I ... done.  ==> CWD (1) /emp/release1/otu_info/deblur ... done.\n",
      "==> SIZE emp90.5000_1000_rxbl_placement_pruned75.tog.tre ... 41472507\n",
      "==> PASV ... done.    ==> RETR emp90.5000_1000_rxbl_placement_pruned75.tog.tre ... done.\n",
      "Length: 41472507 (40M) (unauthoritative)\n",
      "\n",
      "emp90.5000_1000_rxb 100%[===================>]  39.55M  9.32MB/s    in 8.0s    \n",
      "\n",
      "2021-01-26 09:52:43 (4.95 MB/s) - ‘fig1/input/EMP_tree.tre’ saved [41472507]\n",
      "\n"
     ]
    }
   ],
   "source": [
    "# EMP tree\n",
    "!wget -O fig1/input/EMP_tree.tre ftp://ftp.microbio.me/emp/release1/otu_info/deblur/emp90.5000_1000_rxbl_placement_pruned75.tog.tre"
   ]
  },
  {
   "cell_type": "code",
   "execution_count": 5,
   "metadata": {},
   "outputs": [
    {
     "name": "stdout",
     "output_type": "stream",
     "text": [
      "--2021-01-26 09:52:43--  ftp://ftp.microbio.me/emp/release1/mapping_files/emp_qiime_mapping_release1.tsv\n",
      "           => ‘fig1/input/EMP_metadata.tsv’\n",
      "Resolving ftp.microbio.me (ftp.microbio.me)... 169.228.46.98\n",
      "Connecting to ftp.microbio.me (ftp.microbio.me)|169.228.46.98|:21... connected.\n",
      "Logging in as anonymous ... Logged in!\n",
      "==> SYST ... done.    ==> PWD ... done.\n",
      "==> TYPE I ... done.  ==> CWD (1) /emp/release1/mapping_files ... done.\n",
      "==> SIZE emp_qiime_mapping_release1.tsv ... 21876184\n",
      "==> PASV ... done.    ==> RETR emp_qiime_mapping_release1.tsv ... done.\n",
      "Length: 21876184 (21M) (unauthoritative)\n",
      "\n",
      "emp_qiime_mapping_r 100%[===================>]  20.86M  5.60MB/s    in 6.1s    \n",
      "\n",
      "2021-01-26 09:52:50 (3.43 MB/s) - ‘fig1/input/EMP_metadata.tsv’ saved [21876184]\n",
      "\n"
     ]
    }
   ],
   "source": [
    "# EMP mapping file\n",
    "!wget -O fig1/input/EMP_metadata.tsv ftp://ftp.microbio.me/emp/release1/mapping_files/emp_qiime_mapping_release1.tsv"
   ]
  },
  {
   "cell_type": "markdown",
   "metadata": {},
   "source": [
    "Next, we'll import the table and tree files as `qza` Artifacts so that they can be used with EMPress."
   ]
  },
  {
   "cell_type": "code",
   "execution_count": 6,
   "metadata": {},
   "outputs": [
    {
     "name": "stdout",
     "output_type": "stream",
     "text": [
      "\u001b[32mImported fig1/input/EMP_tbl.biom as BIOMV210DirFmt to fig1/output/EMP_tbl.qza\u001b[0m\r\n"
     ]
    }
   ],
   "source": [
    "!qiime tools import \\\n",
    "    --type FeatureTable[Frequency] \\\n",
    "    --input-path fig1/input/EMP_tbl.biom \\\n",
    "    --output-path fig1/output/EMP_tbl.qza"
   ]
  },
  {
   "cell_type": "code",
   "execution_count": 7,
   "metadata": {},
   "outputs": [
    {
     "name": "stdout",
     "output_type": "stream",
     "text": [
      "\u001b[32mImported fig1/input/EMP_tree.tre as NewickDirectoryFormat to fig1/output/EMP_tree.qza\u001b[0m\r\n"
     ]
    }
   ],
   "source": [
    "!qiime tools import \\\n",
    "    --type Phylogeny[Rooted] \\\n",
    "    --input-path fig1/input/EMP_tree.tre \\\n",
    "    --output-path fig1/output/EMP_tree.qza"
   ]
  },
  {
   "cell_type": "markdown",
   "metadata": {},
   "source": [
    "## Simplify Phylum-Level Assignments\n",
    "\n",
    "For ease of visualization, we will use each microbial feature's phylum level assignment for subsequent taxonomic representation. These assignments are stored within the original `biom` table. We will first extract this file and replace missing values with \"Unspecified.\""
   ]
  },
  {
   "cell_type": "code",
   "execution_count": 8,
   "metadata": {},
   "outputs": [
    {
     "name": "stdout",
     "output_type": "stream",
     "text": [
      "(317314, 7)\n"
     ]
    },
    {
     "data": {
      "text/html": [
       "<div>\n",
       "<style scoped>\n",
       "    .dataframe tbody tr th:only-of-type {\n",
       "        vertical-align: middle;\n",
       "    }\n",
       "\n",
       "    .dataframe tbody tr th {\n",
       "        vertical-align: top;\n",
       "    }\n",
       "\n",
       "    .dataframe thead th {\n",
       "        text-align: right;\n",
       "    }\n",
       "</style>\n",
       "<table border=\"1\" class=\"dataframe\">\n",
       "  <thead>\n",
       "    <tr style=\"text-align: right;\">\n",
       "      <th></th>\n",
       "      <th>taxonomy_0</th>\n",
       "      <th>taxonomy_1</th>\n",
       "      <th>taxonomy_2</th>\n",
       "      <th>taxonomy_3</th>\n",
       "      <th>taxonomy_4</th>\n",
       "      <th>taxonomy_5</th>\n",
       "      <th>taxonomy_6</th>\n",
       "    </tr>\n",
       "    <tr>\n",
       "      <th>featureid</th>\n",
       "      <th></th>\n",
       "      <th></th>\n",
       "      <th></th>\n",
       "      <th></th>\n",
       "      <th></th>\n",
       "      <th></th>\n",
       "      <th></th>\n",
       "    </tr>\n",
       "  </thead>\n",
       "  <tbody>\n",
       "    <tr>\n",
       "      <th>TACGGAGGGTGCAAGCGTTAATCGGAATTACTGGGCGTAAAGCGCACGTAGGCGGCTGTTTAAGCTAGCTGTGAAAGCCCCGGGCTTAAC</th>\n",
       "      <td>k__Bacteria</td>\n",
       "      <td>p__Proteobacteria</td>\n",
       "      <td>c__Gammaproteobacteria</td>\n",
       "      <td>o__Alteromonadales</td>\n",
       "      <td>f__Alteromonadaceae</td>\n",
       "      <td>g__Marinimicrobium</td>\n",
       "      <td>s__</td>\n",
       "    </tr>\n",
       "    <tr>\n",
       "      <th>TACAGAGGTCCCAAGCGTTGTTCGGATTCATTGGGCGTAAAGGGCTCGTAGGTGGCCAACTAAGTCAGACGTGAAATCCCTCGGCTTAAC</th>\n",
       "      <td>k__Bacteria</td>\n",
       "      <td>Unspecified</td>\n",
       "      <td>Unspecified</td>\n",
       "      <td>Unspecified</td>\n",
       "      <td>Unspecified</td>\n",
       "      <td>Unspecified</td>\n",
       "      <td>Unspecified</td>\n",
       "    </tr>\n",
       "    <tr>\n",
       "      <th>TACGAAGGGTGCAAGCGTTGTTCGGAATAACTGGGCGTAAAGCGCACGTAGGCGGGTCCGTGTGTCGGTTGTGAAATCCCTGGGCTCAAC</th>\n",
       "      <td>k__Bacteria</td>\n",
       "      <td>p__Proteobacteria</td>\n",
       "      <td>c__Deltaproteobacteria</td>\n",
       "      <td>Unspecified</td>\n",
       "      <td>Unspecified</td>\n",
       "      <td>Unspecified</td>\n",
       "      <td>Unspecified</td>\n",
       "    </tr>\n",
       "    <tr>\n",
       "      <th>TACGGAGTGTGCAAGCGTTACTCGGAATCACTGGGCATAAAGAGCACGTAGGCGGGTCACCAAGTCAGCCGTGAAAGCCCCCGGCCCAAC</th>\n",
       "      <td>k__Bacteria</td>\n",
       "      <td>p__Planctomycetes</td>\n",
       "      <td>c__028H05-P-BN-P5</td>\n",
       "      <td>o__</td>\n",
       "      <td>f__</td>\n",
       "      <td>g__</td>\n",
       "      <td>s__</td>\n",
       "    </tr>\n",
       "    <tr>\n",
       "      <th>TACGAGAGGTCCAAACGTTATTCGGAATTACTGGGCTTAAAGAGTTCGTAGGCGGCTAAGTAAGTGGGATGTGAAAGCCCTCGGCTCAAC</th>\n",
       "      <td>k__Bacteria</td>\n",
       "      <td>p__Planctomycetes</td>\n",
       "      <td>c__Planctomycetia</td>\n",
       "      <td>o__Pirellulales</td>\n",
       "      <td>f__Pirellulaceae</td>\n",
       "      <td>g__</td>\n",
       "      <td>s__</td>\n",
       "    </tr>\n",
       "  </tbody>\n",
       "</table>\n",
       "</div>"
      ],
      "text/plain": [
       "                                                     taxonomy_0  \\\n",
       "featureid                                                         \n",
       "TACGGAGGGTGCAAGCGTTAATCGGAATTACTGGGCGTAAAGCGCAC...  k__Bacteria   \n",
       "TACAGAGGTCCCAAGCGTTGTTCGGATTCATTGGGCGTAAAGGGCTC...  k__Bacteria   \n",
       "TACGAAGGGTGCAAGCGTTGTTCGGAATAACTGGGCGTAAAGCGCAC...  k__Bacteria   \n",
       "TACGGAGTGTGCAAGCGTTACTCGGAATCACTGGGCATAAAGAGCAC...  k__Bacteria   \n",
       "TACGAGAGGTCCAAACGTTATTCGGAATTACTGGGCTTAAAGAGTTC...  k__Bacteria   \n",
       "\n",
       "                                                           taxonomy_1  \\\n",
       "featureid                                                               \n",
       "TACGGAGGGTGCAAGCGTTAATCGGAATTACTGGGCGTAAAGCGCAC...  p__Proteobacteria   \n",
       "TACAGAGGTCCCAAGCGTTGTTCGGATTCATTGGGCGTAAAGGGCTC...        Unspecified   \n",
       "TACGAAGGGTGCAAGCGTTGTTCGGAATAACTGGGCGTAAAGCGCAC...  p__Proteobacteria   \n",
       "TACGGAGTGTGCAAGCGTTACTCGGAATCACTGGGCATAAAGAGCAC...  p__Planctomycetes   \n",
       "TACGAGAGGTCCAAACGTTATTCGGAATTACTGGGCTTAAAGAGTTC...  p__Planctomycetes   \n",
       "\n",
       "                                                                taxonomy_2  \\\n",
       "featureid                                                                    \n",
       "TACGGAGGGTGCAAGCGTTAATCGGAATTACTGGGCGTAAAGCGCAC...  c__Gammaproteobacteria   \n",
       "TACAGAGGTCCCAAGCGTTGTTCGGATTCATTGGGCGTAAAGGGCTC...             Unspecified   \n",
       "TACGAAGGGTGCAAGCGTTGTTCGGAATAACTGGGCGTAAAGCGCAC...  c__Deltaproteobacteria   \n",
       "TACGGAGTGTGCAAGCGTTACTCGGAATCACTGGGCATAAAGAGCAC...       c__028H05-P-BN-P5   \n",
       "TACGAGAGGTCCAAACGTTATTCGGAATTACTGGGCTTAAAGAGTTC...       c__Planctomycetia   \n",
       "\n",
       "                                                            taxonomy_3  \\\n",
       "featureid                                                                \n",
       "TACGGAGGGTGCAAGCGTTAATCGGAATTACTGGGCGTAAAGCGCAC...  o__Alteromonadales   \n",
       "TACAGAGGTCCCAAGCGTTGTTCGGATTCATTGGGCGTAAAGGGCTC...         Unspecified   \n",
       "TACGAAGGGTGCAAGCGTTGTTCGGAATAACTGGGCGTAAAGCGCAC...         Unspecified   \n",
       "TACGGAGTGTGCAAGCGTTACTCGGAATCACTGGGCATAAAGAGCAC...                 o__   \n",
       "TACGAGAGGTCCAAACGTTATTCGGAATTACTGGGCTTAAAGAGTTC...     o__Pirellulales   \n",
       "\n",
       "                                                             taxonomy_4  \\\n",
       "featureid                                                                 \n",
       "TACGGAGGGTGCAAGCGTTAATCGGAATTACTGGGCGTAAAGCGCAC...  f__Alteromonadaceae   \n",
       "TACAGAGGTCCCAAGCGTTGTTCGGATTCATTGGGCGTAAAGGGCTC...          Unspecified   \n",
       "TACGAAGGGTGCAAGCGTTGTTCGGAATAACTGGGCGTAAAGCGCAC...          Unspecified   \n",
       "TACGGAGTGTGCAAGCGTTACTCGGAATCACTGGGCATAAAGAGCAC...                  f__   \n",
       "TACGAGAGGTCCAAACGTTATTCGGAATTACTGGGCTTAAAGAGTTC...     f__Pirellulaceae   \n",
       "\n",
       "                                                            taxonomy_5  \\\n",
       "featureid                                                                \n",
       "TACGGAGGGTGCAAGCGTTAATCGGAATTACTGGGCGTAAAGCGCAC...  g__Marinimicrobium   \n",
       "TACAGAGGTCCCAAGCGTTGTTCGGATTCATTGGGCGTAAAGGGCTC...         Unspecified   \n",
       "TACGAAGGGTGCAAGCGTTGTTCGGAATAACTGGGCGTAAAGCGCAC...         Unspecified   \n",
       "TACGGAGTGTGCAAGCGTTACTCGGAATCACTGGGCATAAAGAGCAC...                 g__   \n",
       "TACGAGAGGTCCAAACGTTATTCGGAATTACTGGGCTTAAAGAGTTC...                 g__   \n",
       "\n",
       "                                                     taxonomy_6  \n",
       "featureid                                                        \n",
       "TACGGAGGGTGCAAGCGTTAATCGGAATTACTGGGCGTAAAGCGCAC...          s__  \n",
       "TACAGAGGTCCCAAGCGTTGTTCGGATTCATTGGGCGTAAAGGGCTC...  Unspecified  \n",
       "TACGAAGGGTGCAAGCGTTGTTCGGAATAACTGGGCGTAAAGCGCAC...  Unspecified  \n",
       "TACGGAGTGTGCAAGCGTTACTCGGAATCACTGGGCATAAAGAGCAC...          s__  \n",
       "TACGAGAGGTCCAAACGTTATTCGGAATTACTGGGCTTAAAGAGTTC...          s__  "
      ]
     },
     "execution_count": 8,
     "metadata": {},
     "output_type": "execute_result"
    }
   ],
   "source": [
    "tbl_biom = load_table(\"fig1/input/EMP_tbl.biom\")\n",
    "taxonomy_df = tbl_biom.metadata_to_dataframe(axis=\"observation\")\n",
    "#taxonomy_df.columns = [\"kingdom\", \"phylum\", \"class\", \"order\", \"family\", \"genus\", \"species\"]\n",
    "taxonomy_df.index.name = \"featureid\"\n",
    "taxonomy_df = taxonomy_df.fillna(\"Unspecified\")\n",
    "print(taxonomy_df.shape)\n",
    "taxonomy_df.head()"
   ]
  },
  {
   "cell_type": "markdown",
   "metadata": {},
   "source": [
    "We will save this taxonomy file as its own feature metadata file independent of the feature table."
   ]
  },
  {
   "cell_type": "code",
   "execution_count": 9,
   "metadata": {},
   "outputs": [],
   "source": [
    "Metadata(taxonomy_df).save(\"fig1/output/EMP_taxonomy.tsv\")"
   ]
  },
  {
   "cell_type": "markdown",
   "metadata": {},
   "source": [
    "We want to keep only the top 5 most abundant phlyum (taxonomy_1) assignments."
   ]
  },
  {
   "cell_type": "code",
   "execution_count": 10,
   "metadata": {},
   "outputs": [
    {
     "data": {
      "text/plain": [
       "p__Proteobacteria    83037\n",
       "Unspecified          44143\n",
       "p__Bacteroidetes     26406\n",
       "p__Firmicutes        23834\n",
       "p__Planctomycetes    22177\n",
       "p__Chloroflexi       16042\n",
       "Name: taxonomy_1, dtype: int64"
      ]
     },
     "execution_count": 10,
     "metadata": {},
     "output_type": "execute_result"
    }
   ],
   "source": [
    "taxonomy_df[\"taxonomy_1\"].value_counts().head(6) # top 5 + Unspecified"
   ]
  },
  {
   "cell_type": "code",
   "execution_count": 11,
   "metadata": {},
   "outputs": [
    {
     "data": {
      "text/html": [
       "<div>\n",
       "<style scoped>\n",
       "    .dataframe tbody tr th:only-of-type {\n",
       "        vertical-align: middle;\n",
       "    }\n",
       "\n",
       "    .dataframe tbody tr th {\n",
       "        vertical-align: top;\n",
       "    }\n",
       "\n",
       "    .dataframe thead th {\n",
       "        text-align: right;\n",
       "    }\n",
       "</style>\n",
       "<table border=\"1\" class=\"dataframe\">\n",
       "  <thead>\n",
       "    <tr style=\"text-align: right;\">\n",
       "      <th></th>\n",
       "      <th>phylum_assignment</th>\n",
       "    </tr>\n",
       "    <tr>\n",
       "      <th>featureid</th>\n",
       "      <th></th>\n",
       "    </tr>\n",
       "  </thead>\n",
       "  <tbody>\n",
       "    <tr>\n",
       "      <th>TACGGAGGGTGCAAGCGTTAATCGGAATTACTGGGCGTAAAGCGCACGTAGGCGGCTGTTTAAGCTAGCTGTGAAAGCCCCGGGCTTAAC</th>\n",
       "      <td>p__Proteobacteria</td>\n",
       "    </tr>\n",
       "    <tr>\n",
       "      <th>TACAGAGGTCCCAAGCGTTGTTCGGATTCATTGGGCGTAAAGGGCTCGTAGGTGGCCAACTAAGTCAGACGTGAAATCCCTCGGCTTAAC</th>\n",
       "      <td>Other/Unspecified</td>\n",
       "    </tr>\n",
       "    <tr>\n",
       "      <th>TACGAAGGGTGCAAGCGTTGTTCGGAATAACTGGGCGTAAAGCGCACGTAGGCGGGTCCGTGTGTCGGTTGTGAAATCCCTGGGCTCAAC</th>\n",
       "      <td>p__Proteobacteria</td>\n",
       "    </tr>\n",
       "    <tr>\n",
       "      <th>TACGGAGTGTGCAAGCGTTACTCGGAATCACTGGGCATAAAGAGCACGTAGGCGGGTCACCAAGTCAGCCGTGAAAGCCCCCGGCCCAAC</th>\n",
       "      <td>p__Planctomycetes</td>\n",
       "    </tr>\n",
       "    <tr>\n",
       "      <th>TACGAGAGGTCCAAACGTTATTCGGAATTACTGGGCTTAAAGAGTTCGTAGGCGGCTAAGTAAGTGGGATGTGAAAGCCCTCGGCTCAAC</th>\n",
       "      <td>p__Planctomycetes</td>\n",
       "    </tr>\n",
       "  </tbody>\n",
       "</table>\n",
       "</div>"
      ],
      "text/plain": [
       "                                                    phylum_assignment\n",
       "featureid                                                            \n",
       "TACGGAGGGTGCAAGCGTTAATCGGAATTACTGGGCGTAAAGCGCAC...  p__Proteobacteria\n",
       "TACAGAGGTCCCAAGCGTTGTTCGGATTCATTGGGCGTAAAGGGCTC...  Other/Unspecified\n",
       "TACGAAGGGTGCAAGCGTTGTTCGGAATAACTGGGCGTAAAGCGCAC...  p__Proteobacteria\n",
       "TACGGAGTGTGCAAGCGTTACTCGGAATCACTGGGCATAAAGAGCAC...  p__Planctomycetes\n",
       "TACGAGAGGTCCAAACGTTATTCGGAATTACTGGGCTTAAAGAGTTC...  p__Planctomycetes"
      ]
     },
     "execution_count": 11,
     "metadata": {},
     "output_type": "execute_result"
    }
   ],
   "source": [
    "top_5_phyla_counts = taxonomy_df[\"taxonomy_1\"].value_counts()[:6]\n",
    "top_5_phyla = top_5_phyla_counts.index.tolist()\n",
    "bot_phyla = taxonomy_df[\"taxonomy_1\"].value_counts()[6:].index.tolist()\n",
    "top_5_phyla.remove(\"Unspecified\")\n",
    "bot_phyla.append(\"Unspecified\")\n",
    "phylum_assignments = [\"Other/Unspecified\" if not x in top_5_phyla else x for x in taxonomy_df[\"taxonomy_1\"]]\n",
    "top_5_phyla_df = pd.DataFrame.from_dict(dict(zip(taxonomy_df.index.tolist(), phylum_assignments)), orient=\"index\")\n",
    "top_5_phyla_df.columns = [\"phylum_assignment\"]\n",
    "top_5_phyla_df.index.name = \"featureid\"\n",
    "top_5_phyla_df.head()"
   ]
  },
  {
   "cell_type": "markdown",
   "metadata": {},
   "source": [
    "We will save this file as a `tsv` file that QIIME2 can read."
   ]
  },
  {
   "cell_type": "code",
   "execution_count": 12,
   "metadata": {},
   "outputs": [],
   "source": [
    "Metadata(top_5_phyla_df).save(\"fig1/output/EMP_top_5_phyla.tsv\")"
   ]
  },
  {
   "cell_type": "markdown",
   "metadata": {},
   "source": [
    "## Filtering Feature Table\n",
    "\n",
    "The original EMP data includes samples from both sterile water blanks and mock communities. We will remove samples of both these types."
   ]
  },
  {
   "cell_type": "code",
   "execution_count": 13,
   "metadata": {},
   "outputs": [
    {
     "name": "stdout",
     "output_type": "stream",
     "text": [
      "\u001b[32mSaved FeatureTable[Frequency] to: fig1/output/EMP_tbl_filt.qza\u001b[0m\r\n"
     ]
    }
   ],
   "source": [
    "!qiime feature-table filter-samples \\\n",
    "    --i-table fig1/output/EMP_tbl.qza \\\n",
    "    --m-metadata-file fig1/input/EMP_metadata.tsv \\\n",
    "    --p-where \"[empo_2] NOT IN ('Positive', 'Negative')\" \\\n",
    "    --o-filtered-table fig1/output/EMP_tbl_filt.qza"
   ]
  },
  {
   "cell_type": "markdown",
   "metadata": {},
   "source": [
    "Additionally, we will filter the feature table by the phylogeny to make sure all features present in the feature table are present in the phylogeny as well."
   ]
  },
  {
   "cell_type": "code",
   "execution_count": 14,
   "metadata": {},
   "outputs": [
    {
     "name": "stdout",
     "output_type": "stream",
     "text": [
      "\u001b[32mSaved FeatureTable[Frequency] to: fig1/output/EMP_tbl_filt.qza\u001b[0m\r\n"
     ]
    }
   ],
   "source": [
    "!qiime phylogeny filter-table \\\n",
    "    --i-table fig1/output/EMP_tbl_filt.qza \\\n",
    "    --i-tree fig1/output/EMP_tree.qza \\\n",
    "    --o-filtered-table fig1/output/EMP_tbl_filt.qza"
   ]
  },
  {
   "cell_type": "markdown",
   "metadata": {},
   "source": [
    "## Filtering Metadata\n",
    "\n",
    "The EMP dataset is fairly large so the metadata takes up a good amount of storage. We will pare down the provided metadata file a bit so that the final Visualization is small enough to upload to GitHub."
   ]
  },
  {
   "cell_type": "code",
   "execution_count": 15,
   "metadata": {},
   "outputs": [
    {
     "data": {
      "text/html": [
       "<div>\n",
       "<style scoped>\n",
       "    .dataframe tbody tr th:only-of-type {\n",
       "        vertical-align: middle;\n",
       "    }\n",
       "\n",
       "    .dataframe tbody tr th {\n",
       "        vertical-align: top;\n",
       "    }\n",
       "\n",
       "    .dataframe thead th {\n",
       "        text-align: right;\n",
       "    }\n",
       "</style>\n",
       "<table border=\"1\" class=\"dataframe\">\n",
       "  <thead>\n",
       "    <tr style=\"text-align: right;\">\n",
       "      <th></th>\n",
       "      <th>BarcodeSequence</th>\n",
       "      <th>LinkerPrimerSequence</th>\n",
       "      <th>Description</th>\n",
       "      <th>host_subject_id</th>\n",
       "      <th>study_id</th>\n",
       "      <th>title</th>\n",
       "      <th>principal_investigator</th>\n",
       "      <th>doi</th>\n",
       "      <th>ebi_accession</th>\n",
       "      <th>target_gene</th>\n",
       "      <th>...</th>\n",
       "      <th>adiv_shannon</th>\n",
       "      <th>adiv_faith_pd</th>\n",
       "      <th>temperature_deg_c</th>\n",
       "      <th>ph</th>\n",
       "      <th>salinity_psu</th>\n",
       "      <th>oxygen_mg_per_l</th>\n",
       "      <th>phosphate_umol_per_l</th>\n",
       "      <th>ammonium_umol_per_l</th>\n",
       "      <th>nitrate_umol_per_l</th>\n",
       "      <th>sulfate_umol_per_l</th>\n",
       "    </tr>\n",
       "    <tr>\n",
       "      <th>#SampleID</th>\n",
       "      <th></th>\n",
       "      <th></th>\n",
       "      <th></th>\n",
       "      <th></th>\n",
       "      <th></th>\n",
       "      <th></th>\n",
       "      <th></th>\n",
       "      <th></th>\n",
       "      <th></th>\n",
       "      <th></th>\n",
       "      <th></th>\n",
       "      <th></th>\n",
       "      <th></th>\n",
       "      <th></th>\n",
       "      <th></th>\n",
       "      <th></th>\n",
       "      <th></th>\n",
       "      <th></th>\n",
       "      <th></th>\n",
       "      <th></th>\n",
       "      <th></th>\n",
       "    </tr>\n",
       "  </thead>\n",
       "  <tbody>\n",
       "    <tr>\n",
       "      <th>550.L1S1.s.1.sequence</th>\n",
       "      <td>AACGCACGCTAG</td>\n",
       "      <td>GTGCCAGCMGCCGCGGTAA</td>\n",
       "      <td>sample_1 stool</td>\n",
       "      <td>F4</td>\n",
       "      <td>550</td>\n",
       "      <td>Moving pictures of the human microbiome</td>\n",
       "      <td>Rob Knight</td>\n",
       "      <td>10.1186/gb-2011-12-5-r50</td>\n",
       "      <td>ERP021896</td>\n",
       "      <td>16S rRNA</td>\n",
       "      <td>...</td>\n",
       "      <td>4.244831</td>\n",
       "      <td>13.631804</td>\n",
       "      <td>NaN</td>\n",
       "      <td>NaN</td>\n",
       "      <td>NaN</td>\n",
       "      <td>NaN</td>\n",
       "      <td>NaN</td>\n",
       "      <td>NaN</td>\n",
       "      <td>NaN</td>\n",
       "      <td>NaN</td>\n",
       "    </tr>\n",
       "    <tr>\n",
       "      <th>550.L1S10.s.1.sequence</th>\n",
       "      <td>ACAGACCACTCA</td>\n",
       "      <td>GTGCCAGCMGCCGCGGTAA</td>\n",
       "      <td>sample_2 stool</td>\n",
       "      <td>F4</td>\n",
       "      <td>550</td>\n",
       "      <td>Moving pictures of the human microbiome</td>\n",
       "      <td>Rob Knight</td>\n",
       "      <td>10.1186/gb-2011-12-5-r50</td>\n",
       "      <td>ERP021896</td>\n",
       "      <td>16S rRNA</td>\n",
       "      <td>...</td>\n",
       "      <td>3.027416</td>\n",
       "      <td>9.425835</td>\n",
       "      <td>NaN</td>\n",
       "      <td>NaN</td>\n",
       "      <td>NaN</td>\n",
       "      <td>NaN</td>\n",
       "      <td>NaN</td>\n",
       "      <td>NaN</td>\n",
       "      <td>NaN</td>\n",
       "      <td>NaN</td>\n",
       "    </tr>\n",
       "    <tr>\n",
       "      <th>550.L1S100.s.1.sequence</th>\n",
       "      <td>ATGCACTGGCGA</td>\n",
       "      <td>GTGCCAGCMGCCGCGGTAA</td>\n",
       "      <td>sample_3 stool</td>\n",
       "      <td>F4</td>\n",
       "      <td>550</td>\n",
       "      <td>Moving pictures of the human microbiome</td>\n",
       "      <td>Rob Knight</td>\n",
       "      <td>10.1186/gb-2011-12-5-r50</td>\n",
       "      <td>ERP021896</td>\n",
       "      <td>16S rRNA</td>\n",
       "      <td>...</td>\n",
       "      <td>3.196420</td>\n",
       "      <td>10.491161</td>\n",
       "      <td>NaN</td>\n",
       "      <td>NaN</td>\n",
       "      <td>NaN</td>\n",
       "      <td>NaN</td>\n",
       "      <td>NaN</td>\n",
       "      <td>NaN</td>\n",
       "      <td>NaN</td>\n",
       "      <td>NaN</td>\n",
       "    </tr>\n",
       "    <tr>\n",
       "      <th>550.L1S101.s.1.sequence</th>\n",
       "      <td>ATTATCGTGCAC</td>\n",
       "      <td>GTGCCAGCMGCCGCGGTAA</td>\n",
       "      <td>sample_4 stool</td>\n",
       "      <td>F4</td>\n",
       "      <td>550</td>\n",
       "      <td>Moving pictures of the human microbiome</td>\n",
       "      <td>Rob Knight</td>\n",
       "      <td>10.1186/gb-2011-12-5-r50</td>\n",
       "      <td>ERP021896</td>\n",
       "      <td>16S rRNA</td>\n",
       "      <td>...</td>\n",
       "      <td>3.714719</td>\n",
       "      <td>11.384689</td>\n",
       "      <td>NaN</td>\n",
       "      <td>NaN</td>\n",
       "      <td>NaN</td>\n",
       "      <td>NaN</td>\n",
       "      <td>NaN</td>\n",
       "      <td>NaN</td>\n",
       "      <td>NaN</td>\n",
       "      <td>NaN</td>\n",
       "    </tr>\n",
       "    <tr>\n",
       "      <th>550.L1S102.s.1.sequence</th>\n",
       "      <td>CACGACAGGCTA</td>\n",
       "      <td>GTGCCAGCMGCCGCGGTAA</td>\n",
       "      <td>sample_5 stool</td>\n",
       "      <td>F4</td>\n",
       "      <td>550</td>\n",
       "      <td>Moving pictures of the human microbiome</td>\n",
       "      <td>Rob Knight</td>\n",
       "      <td>10.1186/gb-2011-12-5-r50</td>\n",
       "      <td>ERP021896</td>\n",
       "      <td>16S rRNA</td>\n",
       "      <td>...</td>\n",
       "      <td>3.969038</td>\n",
       "      <td>15.162691</td>\n",
       "      <td>NaN</td>\n",
       "      <td>NaN</td>\n",
       "      <td>NaN</td>\n",
       "      <td>NaN</td>\n",
       "      <td>NaN</td>\n",
       "      <td>NaN</td>\n",
       "      <td>NaN</td>\n",
       "      <td>NaN</td>\n",
       "    </tr>\n",
       "  </tbody>\n",
       "</table>\n",
       "<p>5 rows × 75 columns</p>\n",
       "</div>"
      ],
      "text/plain": [
       "                        BarcodeSequence LinkerPrimerSequence     Description  \\\n",
       "#SampleID                                                                      \n",
       "550.L1S1.s.1.sequence      AACGCACGCTAG  GTGCCAGCMGCCGCGGTAA  sample_1 stool   \n",
       "550.L1S10.s.1.sequence     ACAGACCACTCA  GTGCCAGCMGCCGCGGTAA  sample_2 stool   \n",
       "550.L1S100.s.1.sequence    ATGCACTGGCGA  GTGCCAGCMGCCGCGGTAA  sample_3 stool   \n",
       "550.L1S101.s.1.sequence    ATTATCGTGCAC  GTGCCAGCMGCCGCGGTAA  sample_4 stool   \n",
       "550.L1S102.s.1.sequence    CACGACAGGCTA  GTGCCAGCMGCCGCGGTAA  sample_5 stool   \n",
       "\n",
       "                        host_subject_id  study_id  \\\n",
       "#SampleID                                           \n",
       "550.L1S1.s.1.sequence                F4       550   \n",
       "550.L1S10.s.1.sequence               F4       550   \n",
       "550.L1S100.s.1.sequence              F4       550   \n",
       "550.L1S101.s.1.sequence              F4       550   \n",
       "550.L1S102.s.1.sequence              F4       550   \n",
       "\n",
       "                                                           title  \\\n",
       "#SampleID                                                          \n",
       "550.L1S1.s.1.sequence    Moving pictures of the human microbiome   \n",
       "550.L1S10.s.1.sequence   Moving pictures of the human microbiome   \n",
       "550.L1S100.s.1.sequence  Moving pictures of the human microbiome   \n",
       "550.L1S101.s.1.sequence  Moving pictures of the human microbiome   \n",
       "550.L1S102.s.1.sequence  Moving pictures of the human microbiome   \n",
       "\n",
       "                        principal_investigator                       doi  \\\n",
       "#SampleID                                                                  \n",
       "550.L1S1.s.1.sequence               Rob Knight  10.1186/gb-2011-12-5-r50   \n",
       "550.L1S10.s.1.sequence              Rob Knight  10.1186/gb-2011-12-5-r50   \n",
       "550.L1S100.s.1.sequence             Rob Knight  10.1186/gb-2011-12-5-r50   \n",
       "550.L1S101.s.1.sequence             Rob Knight  10.1186/gb-2011-12-5-r50   \n",
       "550.L1S102.s.1.sequence             Rob Knight  10.1186/gb-2011-12-5-r50   \n",
       "\n",
       "                        ebi_accession target_gene  ... adiv_shannon  \\\n",
       "#SampleID                                          ...                \n",
       "550.L1S1.s.1.sequence       ERP021896    16S rRNA  ...     4.244831   \n",
       "550.L1S10.s.1.sequence      ERP021896    16S rRNA  ...     3.027416   \n",
       "550.L1S100.s.1.sequence     ERP021896    16S rRNA  ...     3.196420   \n",
       "550.L1S101.s.1.sequence     ERP021896    16S rRNA  ...     3.714719   \n",
       "550.L1S102.s.1.sequence     ERP021896    16S rRNA  ...     3.969038   \n",
       "\n",
       "                        adiv_faith_pd temperature_deg_c  ph salinity_psu  \\\n",
       "#SampleID                                                                  \n",
       "550.L1S1.s.1.sequence       13.631804               NaN NaN          NaN   \n",
       "550.L1S10.s.1.sequence       9.425835               NaN NaN          NaN   \n",
       "550.L1S100.s.1.sequence     10.491161               NaN NaN          NaN   \n",
       "550.L1S101.s.1.sequence     11.384689               NaN NaN          NaN   \n",
       "550.L1S102.s.1.sequence     15.162691               NaN NaN          NaN   \n",
       "\n",
       "                        oxygen_mg_per_l  phosphate_umol_per_l  \\\n",
       "#SampleID                                                       \n",
       "550.L1S1.s.1.sequence               NaN                   NaN   \n",
       "550.L1S10.s.1.sequence              NaN                   NaN   \n",
       "550.L1S100.s.1.sequence             NaN                   NaN   \n",
       "550.L1S101.s.1.sequence             NaN                   NaN   \n",
       "550.L1S102.s.1.sequence             NaN                   NaN   \n",
       "\n",
       "                         ammonium_umol_per_l  nitrate_umol_per_l  \\\n",
       "#SampleID                                                          \n",
       "550.L1S1.s.1.sequence                    NaN                 NaN   \n",
       "550.L1S10.s.1.sequence                   NaN                 NaN   \n",
       "550.L1S100.s.1.sequence                  NaN                 NaN   \n",
       "550.L1S101.s.1.sequence                  NaN                 NaN   \n",
       "550.L1S102.s.1.sequence                  NaN                 NaN   \n",
       "\n",
       "                         sulfate_umol_per_l  \n",
       "#SampleID                                    \n",
       "550.L1S1.s.1.sequence                   NaN  \n",
       "550.L1S10.s.1.sequence                  NaN  \n",
       "550.L1S100.s.1.sequence                 NaN  \n",
       "550.L1S101.s.1.sequence                 NaN  \n",
       "550.L1S102.s.1.sequence                 NaN  \n",
       "\n",
       "[5 rows x 75 columns]"
      ]
     },
     "execution_count": 15,
     "metadata": {},
     "output_type": "execute_result"
    }
   ],
   "source": [
    "metadata = pd.read_csv(\"fig1/input/EMP_metadata.tsv\", sep=\"\\t\", index_col=0)\n",
    "metadata.head()"
   ]
  },
  {
   "cell_type": "markdown",
   "metadata": {},
   "source": [
    "We are going to keep only a few metadata categories that we think are useful for interactive visualization."
   ]
  },
  {
   "cell_type": "code",
   "execution_count": 16,
   "metadata": {},
   "outputs": [],
   "source": [
    "cols_to_keep = [\n",
    "    \"empo_1\", \"empo_2\", \"empo_3\", \"study_id\", \"sample_scientific_name\",\n",
    "    \"host_common_name\", \"env_material\", \"country\"\n",
    "]"
   ]
  },
  {
   "cell_type": "code",
   "execution_count": 17,
   "metadata": {},
   "outputs": [
    {
     "name": "stdout",
     "output_type": "stream",
     "text": [
      "(27751, 8)\n"
     ]
    }
   ],
   "source": [
    "metadata_filt = metadata[cols_to_keep]\n",
    "print(metadata_filt.shape)\n",
    "Metadata(metadata_filt).save(\"fig1/input/EMP_metadata_filt.tsv\")"
   ]
  },
  {
   "cell_type": "markdown",
   "metadata": {},
   "source": [
    "## Running EMPress\n",
    "\n",
    "Finally, we will generate an EMPire plot combining an interactive tree visualization with a PCoA. The distance matrix and PCoA are very computationally intensive to calculate so we have included the pre-computed PCoA in `fig1/input`. The code used to generate the unweighted UniFrac distance matrix and PCoA are shown below (not executed)."
   ]
  },
  {
   "cell_type": "markdown",
   "metadata": {},
   "source": [
    "```bash\n",
    "qiime diversity beta-phylogenetic \\\n",
    "    --i-table fig1/ouptut/EMP_tbl_filt.qza \\\n",
    "    --i-phylogeny fig1/output/EMP_tree.qza \\\n",
    "    --p-metric unweighted_unifrac \\\n",
    "    --p-n-jobs 32 \\\n",
    "    --o-distance-matrix fig1/output/EMP_u_unifrac_dm.qza\n",
    "    \n",
    "qiime diversity pcoa \\\n",
    "    --i-distance-matrix fig1/output/EMP_u_unifrac_dm.qza \\\n",
    "    --p-number-of-dimensions 3 \\\n",
    "    --o-pcoa fig1/input/EMP_u_unifrac_pcoa.qza\n",
    "```"
   ]
  },
  {
   "cell_type": "code",
   "execution_count": 18,
   "metadata": {},
   "outputs": [
    {
     "name": "stdout",
     "output_type": "stream",
     "text": [
      "\u001b[32mSaved Visualization to: fig1/output/EMP_empire.qzv\u001b[0m\r\n"
     ]
    }
   ],
   "source": [
    "!qiime empress community-plot \\\n",
    "    --i-tree fig1/output/EMP_tree.qza \\\n",
    "    --i-feature-table fig1/output/EMP_tbl_filt.qza \\\n",
    "    --i-pcoa fig1/input/EMP_u_unifrac_pcoa.qza \\\n",
    "    --m-sample-metadata-file fig1/input/EMP_metadata_filt.tsv \\\n",
    "    --m-feature-metadata-file fig1/output/EMP_top_5_phyla.tsv \\\n",
    "    --m-feature-metadata-file fig1/output/EMP_taxonomy.tsv \\\n",
    "    --o-visualization fig1/output/EMP_empire.qzv"
   ]
  },
  {
   "cell_type": "markdown",
   "metadata": {},
   "source": [
    "# Figure 1B\n",
    "\n",
    "Now we will recreate the subtree with the pH metadata. First, we will import the sample metadata to see the overall distribution of pH values."
   ]
  },
  {
   "cell_type": "code",
   "execution_count": 19,
   "metadata": {},
   "outputs": [
    {
     "data": {
      "image/png": "[encoded data removed]",
      "text/plain": [
       "<Figure size 432x288 with 1 Axes>"
      ]
     },
     "metadata": {
      "needs_background": "light"
     },
     "output_type": "display_data"
    }
   ],
   "source": [
    "ph_vals = metadata[\"ph\"].dropna()\n",
    "plt.boxplot(ph_vals)\n",
    "plt.show()"
   ]
  },
  {
   "cell_type": "markdown",
   "metadata": {},
   "source": [
    "To remove outliers, we are going to retain only the samples in the middle 90% of the range of pH values."
   ]
  },
  {
   "cell_type": "code",
   "execution_count": 20,
   "metadata": {},
   "outputs": [
    {
     "name": "stdout",
     "output_type": "stream",
     "text": [
      "4.7 9.0\n"
     ]
    }
   ],
   "source": [
    "q1, q2 = [ph_vals.quantile(x) for x in [0.05, 0.95]]\n",
    "print(q1, q2)"
   ]
  },
  {
   "cell_type": "code",
   "execution_count": 21,
   "metadata": {},
   "outputs": [
    {
     "name": "stdout",
     "output_type": "stream",
     "text": [
      "\u001b[32mSaved FeatureTable[Frequency] to: fig1/output/ph_EMP_tbl_filt.qza\u001b[0m\r\n"
     ]
    }
   ],
   "source": [
    "!qiime feature-table filter-samples \\\n",
    "    --i-table fig1/output/EMP_tbl_filt.qza \\\n",
    "    --m-metadata-file fig1/input/EMP_metadata.tsv \\\n",
    "    --p-where \"[ph] >= 4.7 AND [ph] <= 9\" \\\n",
    "    --o-filtered-table fig1/output/ph_EMP_tbl_filt.qza"
   ]
  },
  {
   "cell_type": "markdown",
   "metadata": {},
   "source": [
    "For each feature, we will calculate:\n",
    "\n",
    "1. The number of samples in which it appears\n",
    "2. The arithmetic mean pH value of these samples\n",
    "3. The geometric mean pH value of these samples"
   ]
  },
  {
   "cell_type": "code",
   "execution_count": 22,
   "metadata": {},
   "outputs": [
    {
     "data": {
      "text/html": [
       "<div>\n",
       "<style scoped>\n",
       "    .dataframe tbody tr th:only-of-type {\n",
       "        vertical-align: middle;\n",
       "    }\n",
       "\n",
       "    .dataframe tbody tr th {\n",
       "        vertical-align: top;\n",
       "    }\n",
       "\n",
       "    .dataframe thead th {\n",
       "        text-align: right;\n",
       "    }\n",
       "</style>\n",
       "<table border=\"1\" class=\"dataframe\">\n",
       "  <thead>\n",
       "    <tr style=\"text-align: right;\">\n",
       "      <th></th>\n",
       "      <th>sample_presence</th>\n",
       "      <th>geometric_mean</th>\n",
       "      <th>arithmetic_mean</th>\n",
       "    </tr>\n",
       "    <tr>\n",
       "      <th>featureid</th>\n",
       "      <th></th>\n",
       "      <th></th>\n",
       "      <th></th>\n",
       "    </tr>\n",
       "  </thead>\n",
       "  <tbody>\n",
       "    <tr>\n",
       "      <th>TACGGAGGGTGCAAGCGTTAATCGGAATTACTGGGCGTAAAGCGCACGTAGGCGGCTGTTTAAGCTAGCTGTGAAAGCCCCGGGCTTAAC</th>\n",
       "      <td>2</td>\n",
       "      <td>8.558505</td>\n",
       "      <td>8.560000</td>\n",
       "    </tr>\n",
       "    <tr>\n",
       "      <th>TACAGAGGTCCCAAGCGTTGTTCGGATTCATTGGGCGTAAAGGGCTCGTAGGTGGCCAACTAAGTCAGACGTGAAATCCCTCGGCTTAAC</th>\n",
       "      <td>2</td>\n",
       "      <td>5.494616</td>\n",
       "      <td>5.495000</td>\n",
       "    </tr>\n",
       "    <tr>\n",
       "      <th>TACGAAGGGTGCAAGCGTTGTTCGGAATAACTGGGCGTAAAGCGCACGTAGGCGGGTCCGTGTGTCGGTTGTGAAATCCCTGGGCTCAAC</th>\n",
       "      <td>10</td>\n",
       "      <td>7.045974</td>\n",
       "      <td>7.100000</td>\n",
       "    </tr>\n",
       "    <tr>\n",
       "      <th>TACGGAGTGTGCAAGCGTTACTCGGAATCACTGGGCATAAAGAGCACGTAGGCGGGTCACCAAGTCAGCCGTGAAAGCCCCCGGCCCAAC</th>\n",
       "      <td>17</td>\n",
       "      <td>7.830167</td>\n",
       "      <td>7.852941</td>\n",
       "    </tr>\n",
       "    <tr>\n",
       "      <th>TACGAGAGGTCCAAACGTTATTCGGAATTACTGGGCTTAAAGAGTTCGTAGGCGGCTAAGTAAGTGGGATGTGAAAGCCCTCGGCTCAAC</th>\n",
       "      <td>26</td>\n",
       "      <td>7.602140</td>\n",
       "      <td>7.613846</td>\n",
       "    </tr>\n",
       "  </tbody>\n",
       "</table>\n",
       "</div>"
      ],
      "text/plain": [
       "                                                    sample_presence  \\\n",
       "featureid                                                             \n",
       "TACGGAGGGTGCAAGCGTTAATCGGAATTACTGGGCGTAAAGCGCAC...                2   \n",
       "TACAGAGGTCCCAAGCGTTGTTCGGATTCATTGGGCGTAAAGGGCTC...                2   \n",
       "TACGAAGGGTGCAAGCGTTGTTCGGAATAACTGGGCGTAAAGCGCAC...               10   \n",
       "TACGGAGTGTGCAAGCGTTACTCGGAATCACTGGGCATAAAGAGCAC...               17   \n",
       "TACGAGAGGTCCAAACGTTATTCGGAATTACTGGGCTTAAAGAGTTC...               26   \n",
       "\n",
       "                                                    geometric_mean  \\\n",
       "featureid                                                            \n",
       "TACGGAGGGTGCAAGCGTTAATCGGAATTACTGGGCGTAAAGCGCAC...        8.558505   \n",
       "TACAGAGGTCCCAAGCGTTGTTCGGATTCATTGGGCGTAAAGGGCTC...        5.494616   \n",
       "TACGAAGGGTGCAAGCGTTGTTCGGAATAACTGGGCGTAAAGCGCAC...        7.045974   \n",
       "TACGGAGTGTGCAAGCGTTACTCGGAATCACTGGGCATAAAGAGCAC...        7.830167   \n",
       "TACGAGAGGTCCAAACGTTATTCGGAATTACTGGGCTTAAAGAGTTC...        7.602140   \n",
       "\n",
       "                                                    arithmetic_mean  \n",
       "featureid                                                            \n",
       "TACGGAGGGTGCAAGCGTTAATCGGAATTACTGGGCGTAAAGCGCAC...         8.560000  \n",
       "TACAGAGGTCCCAAGCGTTGTTCGGATTCATTGGGCGTAAAGGGCTC...         5.495000  \n",
       "TACGAAGGGTGCAAGCGTTGTTCGGAATAACTGGGCGTAAAGCGCAC...         7.100000  \n",
       "TACGGAGTGTGCAAGCGTTACTCGGAATCACTGGGCATAAAGAGCAC...         7.852941  \n",
       "TACGAGAGGTCCAAACGTTATTCGGAATTACTGGGCTTAAAGAGTTC...         7.613846  "
      ]
     },
     "execution_count": 22,
     "metadata": {},
     "output_type": "execute_result"
    }
   ],
   "source": [
    "ph_tbl_df = Artifact.load(\"fig1/output/ph_EMP_tbl_filt.qza\").view(pd.DataFrame)\n",
    "features = ph_tbl_df.columns.tolist()\n",
    "feature_ph_dict = dict()\n",
    "\n",
    "for feature in features:\n",
    "    feature_ph_dict[feature] = dict()\n",
    "    samps = ph_tbl_df.loc[:, feature]\n",
    "    samps = samps[samps > 0].index.tolist()\n",
    "    ph_vals = metadata.loc[samps][\"ph\"].tolist()\n",
    "    feature_ph_dict[feature][\"sample_presence\"] = len(samps)\n",
    "    feature_ph_dict[feature][\"geometric_mean\"] = ss.mstats.gmean(ph_vals)\n",
    "    feature_ph_dict[feature][\"arithmetic_mean\"] = np.mean(ph_vals)\n",
    "    \n",
    "ph_mean_df = pd.DataFrame.from_dict(feature_ph_dict, orient=\"index\")\n",
    "ph_mean_df.index.name = \"featureid\"\n",
    "ph_mean_df.head()"
   ]
  },
  {
   "cell_type": "code",
   "execution_count": 23,
   "metadata": {},
   "outputs": [],
   "source": [
    "# log10 samples to tighten scale for colorbar\n",
    "ph_mean_df[\"log10_sample_presence\"] = ph_mean_df[\"sample_presence\"].apply(np.log10)"
   ]
  },
  {
   "cell_type": "code",
   "execution_count": 24,
   "metadata": {},
   "outputs": [],
   "source": [
    "Metadata(ph_mean_df).save(\"fig1/output/ph_EMP_feature_metadata.tsv\")"
   ]
  },
  {
   "cell_type": "code",
   "execution_count": 25,
   "metadata": {},
   "outputs": [
    {
     "name": "stdout",
     "output_type": "stream",
     "text": [
      "\u001b[32mSaved Visualization to: fig1/output/ph_EMP_empress.qzv\u001b[0m\r\n"
     ]
    }
   ],
   "source": [
    "!qiime empress community-plot \\\n",
    "    --i-tree fig1/output/EMP_tree.qza \\\n",
    "    --i-feature-table fig1/output/ph_EMP_tbl_filt.qza \\\n",
    "    --m-sample-metadata-file fig1/input/EMP_metadata_filt.tsv \\\n",
    "    --m-feature-metadata-file fig1/output/EMP_top_5_phyla.tsv \\\n",
    "    --m-feature-metadata-file fig1/output/ph_EMP_feature_metadata.tsv \\\n",
    "    --m-feature-metadata-file fig1/output/EMP_taxonomy.tsv \\\n",
    "    --o-visualization fig1/output/ph_EMP_empress.qzv"
   ]
  },
  {
   "cell_type": "markdown",
   "metadata": {},
   "source": [
    "# Figure 1C\n",
    "\n",
    "Finally, we will plot the distributions of pH for the top 5 most abundant phyla in the EMP features."
   ]
  },
  {
   "cell_type": "code",
   "execution_count": 26,
   "metadata": {},
   "outputs": [
    {
     "data": {
      "text/html": [
       "<div>\n",
       "<style scoped>\n",
       "    .dataframe tbody tr th:only-of-type {\n",
       "        vertical-align: middle;\n",
       "    }\n",
       "\n",
       "    .dataframe tbody tr th {\n",
       "        vertical-align: top;\n",
       "    }\n",
       "\n",
       "    .dataframe thead th {\n",
       "        text-align: right;\n",
       "    }\n",
       "</style>\n",
       "<table border=\"1\" class=\"dataframe\">\n",
       "  <thead>\n",
       "    <tr style=\"text-align: right;\">\n",
       "      <th></th>\n",
       "      <th>taxonomy_0</th>\n",
       "      <th>taxonomy_1</th>\n",
       "      <th>taxonomy_2</th>\n",
       "      <th>taxonomy_3</th>\n",
       "      <th>taxonomy_4</th>\n",
       "      <th>taxonomy_5</th>\n",
       "      <th>taxonomy_6</th>\n",
       "      <th>sample_presence</th>\n",
       "      <th>geometric_mean</th>\n",
       "      <th>arithmetic_mean</th>\n",
       "      <th>log10_sample_presence</th>\n",
       "    </tr>\n",
       "    <tr>\n",
       "      <th>featureid</th>\n",
       "      <th></th>\n",
       "      <th></th>\n",
       "      <th></th>\n",
       "      <th></th>\n",
       "      <th></th>\n",
       "      <th></th>\n",
       "      <th></th>\n",
       "      <th></th>\n",
       "      <th></th>\n",
       "      <th></th>\n",
       "      <th></th>\n",
       "    </tr>\n",
       "  </thead>\n",
       "  <tbody>\n",
       "    <tr>\n",
       "      <th>TACGGAGGGTGCAAGCGTTAATCGGAATTACTGGGCGTAAAGCGCACGTAGGCGGCTGTTTAAGCTAGCTGTGAAAGCCCCGGGCTTAAC</th>\n",
       "      <td>k__Bacteria</td>\n",
       "      <td>p__Proteobacteria</td>\n",
       "      <td>c__Gammaproteobacteria</td>\n",
       "      <td>o__Alteromonadales</td>\n",
       "      <td>f__Alteromonadaceae</td>\n",
       "      <td>g__Marinimicrobium</td>\n",
       "      <td>s__</td>\n",
       "      <td>2.0</td>\n",
       "      <td>8.558505</td>\n",
       "      <td>8.560000</td>\n",
       "      <td>0.301030</td>\n",
       "    </tr>\n",
       "    <tr>\n",
       "      <th>TACAGAGGTCCCAAGCGTTGTTCGGATTCATTGGGCGTAAAGGGCTCGTAGGTGGCCAACTAAGTCAGACGTGAAATCCCTCGGCTTAAC</th>\n",
       "      <td>k__Bacteria</td>\n",
       "      <td>Unspecified</td>\n",
       "      <td>Unspecified</td>\n",
       "      <td>Unspecified</td>\n",
       "      <td>Unspecified</td>\n",
       "      <td>Unspecified</td>\n",
       "      <td>Unspecified</td>\n",
       "      <td>2.0</td>\n",
       "      <td>5.494616</td>\n",
       "      <td>5.495000</td>\n",
       "      <td>0.301030</td>\n",
       "    </tr>\n",
       "    <tr>\n",
       "      <th>TACGAAGGGTGCAAGCGTTGTTCGGAATAACTGGGCGTAAAGCGCACGTAGGCGGGTCCGTGTGTCGGTTGTGAAATCCCTGGGCTCAAC</th>\n",
       "      <td>k__Bacteria</td>\n",
       "      <td>p__Proteobacteria</td>\n",
       "      <td>c__Deltaproteobacteria</td>\n",
       "      <td>Unspecified</td>\n",
       "      <td>Unspecified</td>\n",
       "      <td>Unspecified</td>\n",
       "      <td>Unspecified</td>\n",
       "      <td>10.0</td>\n",
       "      <td>7.045974</td>\n",
       "      <td>7.100000</td>\n",
       "      <td>1.000000</td>\n",
       "    </tr>\n",
       "    <tr>\n",
       "      <th>TACGGAGTGTGCAAGCGTTACTCGGAATCACTGGGCATAAAGAGCACGTAGGCGGGTCACCAAGTCAGCCGTGAAAGCCCCCGGCCCAAC</th>\n",
       "      <td>k__Bacteria</td>\n",
       "      <td>p__Planctomycetes</td>\n",
       "      <td>c__028H05-P-BN-P5</td>\n",
       "      <td>o__</td>\n",
       "      <td>f__</td>\n",
       "      <td>g__</td>\n",
       "      <td>s__</td>\n",
       "      <td>17.0</td>\n",
       "      <td>7.830167</td>\n",
       "      <td>7.852941</td>\n",
       "      <td>1.230449</td>\n",
       "    </tr>\n",
       "    <tr>\n",
       "      <th>TACGAGAGGTCCAAACGTTATTCGGAATTACTGGGCTTAAAGAGTTCGTAGGCGGCTAAGTAAGTGGGATGTGAAAGCCCTCGGCTCAAC</th>\n",
       "      <td>k__Bacteria</td>\n",
       "      <td>p__Planctomycetes</td>\n",
       "      <td>c__Planctomycetia</td>\n",
       "      <td>o__Pirellulales</td>\n",
       "      <td>f__Pirellulaceae</td>\n",
       "      <td>g__</td>\n",
       "      <td>s__</td>\n",
       "      <td>26.0</td>\n",
       "      <td>7.602140</td>\n",
       "      <td>7.613846</td>\n",
       "      <td>1.414973</td>\n",
       "    </tr>\n",
       "  </tbody>\n",
       "</table>\n",
       "</div>"
      ],
      "text/plain": [
       "                                                     taxonomy_0  \\\n",
       "featureid                                                         \n",
       "TACGGAGGGTGCAAGCGTTAATCGGAATTACTGGGCGTAAAGCGCAC...  k__Bacteria   \n",
       "TACAGAGGTCCCAAGCGTTGTTCGGATTCATTGGGCGTAAAGGGCTC...  k__Bacteria   \n",
       "TACGAAGGGTGCAAGCGTTGTTCGGAATAACTGGGCGTAAAGCGCAC...  k__Bacteria   \n",
       "TACGGAGTGTGCAAGCGTTACTCGGAATCACTGGGCATAAAGAGCAC...  k__Bacteria   \n",
       "TACGAGAGGTCCAAACGTTATTCGGAATTACTGGGCTTAAAGAGTTC...  k__Bacteria   \n",
       "\n",
       "                                                           taxonomy_1  \\\n",
       "featureid                                                               \n",
       "TACGGAGGGTGCAAGCGTTAATCGGAATTACTGGGCGTAAAGCGCAC...  p__Proteobacteria   \n",
       "TACAGAGGTCCCAAGCGTTGTTCGGATTCATTGGGCGTAAAGGGCTC...        Unspecified   \n",
       "TACGAAGGGTGCAAGCGTTGTTCGGAATAACTGGGCGTAAAGCGCAC...  p__Proteobacteria   \n",
       "TACGGAGTGTGCAAGCGTTACTCGGAATCACTGGGCATAAAGAGCAC...  p__Planctomycetes   \n",
       "TACGAGAGGTCCAAACGTTATTCGGAATTACTGGGCTTAAAGAGTTC...  p__Planctomycetes   \n",
       "\n",
       "                                                                taxonomy_2  \\\n",
       "featureid                                                                    \n",
       "TACGGAGGGTGCAAGCGTTAATCGGAATTACTGGGCGTAAAGCGCAC...  c__Gammaproteobacteria   \n",
       "TACAGAGGTCCCAAGCGTTGTTCGGATTCATTGGGCGTAAAGGGCTC...             Unspecified   \n",
       "TACGAAGGGTGCAAGCGTTGTTCGGAATAACTGGGCGTAAAGCGCAC...  c__Deltaproteobacteria   \n",
       "TACGGAGTGTGCAAGCGTTACTCGGAATCACTGGGCATAAAGAGCAC...       c__028H05-P-BN-P5   \n",
       "TACGAGAGGTCCAAACGTTATTCGGAATTACTGGGCTTAAAGAGTTC...       c__Planctomycetia   \n",
       "\n",
       "                                                            taxonomy_3  \\\n",
       "featureid                                                                \n",
       "TACGGAGGGTGCAAGCGTTAATCGGAATTACTGGGCGTAAAGCGCAC...  o__Alteromonadales   \n",
       "TACAGAGGTCCCAAGCGTTGTTCGGATTCATTGGGCGTAAAGGGCTC...         Unspecified   \n",
       "TACGAAGGGTGCAAGCGTTGTTCGGAATAACTGGGCGTAAAGCGCAC...         Unspecified   \n",
       "TACGGAGTGTGCAAGCGTTACTCGGAATCACTGGGCATAAAGAGCAC...                 o__   \n",
       "TACGAGAGGTCCAAACGTTATTCGGAATTACTGGGCTTAAAGAGTTC...     o__Pirellulales   \n",
       "\n",
       "                                                             taxonomy_4  \\\n",
       "featureid                                                                 \n",
       "TACGGAGGGTGCAAGCGTTAATCGGAATTACTGGGCGTAAAGCGCAC...  f__Alteromonadaceae   \n",
       "TACAGAGGTCCCAAGCGTTGTTCGGATTCATTGGGCGTAAAGGGCTC...          Unspecified   \n",
       "TACGAAGGGTGCAAGCGTTGTTCGGAATAACTGGGCGTAAAGCGCAC...          Unspecified   \n",
       "TACGGAGTGTGCAAGCGTTACTCGGAATCACTGGGCATAAAGAGCAC...                  f__   \n",
       "TACGAGAGGTCCAAACGTTATTCGGAATTACTGGGCTTAAAGAGTTC...     f__Pirellulaceae   \n",
       "\n",
       "                                                            taxonomy_5  \\\n",
       "featureid                                                                \n",
       "TACGGAGGGTGCAAGCGTTAATCGGAATTACTGGGCGTAAAGCGCAC...  g__Marinimicrobium   \n",
       "TACAGAGGTCCCAAGCGTTGTTCGGATTCATTGGGCGTAAAGGGCTC...         Unspecified   \n",
       "TACGAAGGGTGCAAGCGTTGTTCGGAATAACTGGGCGTAAAGCGCAC...         Unspecified   \n",
       "TACGGAGTGTGCAAGCGTTACTCGGAATCACTGGGCATAAAGAGCAC...                 g__   \n",
       "TACGAGAGGTCCAAACGTTATTCGGAATTACTGGGCTTAAAGAGTTC...                 g__   \n",
       "\n",
       "                                                     taxonomy_6  \\\n",
       "featureid                                                         \n",
       "TACGGAGGGTGCAAGCGTTAATCGGAATTACTGGGCGTAAAGCGCAC...          s__   \n",
       "TACAGAGGTCCCAAGCGTTGTTCGGATTCATTGGGCGTAAAGGGCTC...  Unspecified   \n",
       "TACGAAGGGTGCAAGCGTTGTTCGGAATAACTGGGCGTAAAGCGCAC...  Unspecified   \n",
       "TACGGAGTGTGCAAGCGTTACTCGGAATCACTGGGCATAAAGAGCAC...          s__   \n",
       "TACGAGAGGTCCAAACGTTATTCGGAATTACTGGGCTTAAAGAGTTC...          s__   \n",
       "\n",
       "                                                    sample_presence  \\\n",
       "featureid                                                             \n",
       "TACGGAGGGTGCAAGCGTTAATCGGAATTACTGGGCGTAAAGCGCAC...              2.0   \n",
       "TACAGAGGTCCCAAGCGTTGTTCGGATTCATTGGGCGTAAAGGGCTC...              2.0   \n",
       "TACGAAGGGTGCAAGCGTTGTTCGGAATAACTGGGCGTAAAGCGCAC...             10.0   \n",
       "TACGGAGTGTGCAAGCGTTACTCGGAATCACTGGGCATAAAGAGCAC...             17.0   \n",
       "TACGAGAGGTCCAAACGTTATTCGGAATTACTGGGCTTAAAGAGTTC...             26.0   \n",
       "\n",
       "                                                    geometric_mean  \\\n",
       "featureid                                                            \n",
       "TACGGAGGGTGCAAGCGTTAATCGGAATTACTGGGCGTAAAGCGCAC...        8.558505   \n",
       "TACAGAGGTCCCAAGCGTTGTTCGGATTCATTGGGCGTAAAGGGCTC...        5.494616   \n",
       "TACGAAGGGTGCAAGCGTTGTTCGGAATAACTGGGCGTAAAGCGCAC...        7.045974   \n",
       "TACGGAGTGTGCAAGCGTTACTCGGAATCACTGGGCATAAAGAGCAC...        7.830167   \n",
       "TACGAGAGGTCCAAACGTTATTCGGAATTACTGGGCTTAAAGAGTTC...        7.602140   \n",
       "\n",
       "                                                    arithmetic_mean  \\\n",
       "featureid                                                             \n",
       "TACGGAGGGTGCAAGCGTTAATCGGAATTACTGGGCGTAAAGCGCAC...         8.560000   \n",
       "TACAGAGGTCCCAAGCGTTGTTCGGATTCATTGGGCGTAAAGGGCTC...         5.495000   \n",
       "TACGAAGGGTGCAAGCGTTGTTCGGAATAACTGGGCGTAAAGCGCAC...         7.100000   \n",
       "TACGGAGTGTGCAAGCGTTACTCGGAATCACTGGGCATAAAGAGCAC...         7.852941   \n",
       "TACGAGAGGTCCAAACGTTATTCGGAATTACTGGGCTTAAAGAGTTC...         7.613846   \n",
       "\n",
       "                                                    log10_sample_presence  \n",
       "featureid                                                                  \n",
       "TACGGAGGGTGCAAGCGTTAATCGGAATTACTGGGCGTAAAGCGCAC...               0.301030  \n",
       "TACAGAGGTCCCAAGCGTTGTTCGGATTCATTGGGCGTAAAGGGCTC...               0.301030  \n",
       "TACGAAGGGTGCAAGCGTTGTTCGGAATAACTGGGCGTAAAGCGCAC...               1.000000  \n",
       "TACGGAGTGTGCAAGCGTTACTCGGAATCACTGGGCATAAAGAGCAC...               1.230449  \n",
       "TACGAGAGGTCCAAACGTTATTCGGAATTACTGGGCTTAAAGAGTTC...               1.414973  "
      ]
     },
     "execution_count": 26,
     "metadata": {},
     "output_type": "execute_result"
    }
   ],
   "source": [
    "ph_taxonomy = taxonomy_df.join(ph_mean_df)\n",
    "ph_taxonomy.head()"
   ]
  },
  {
   "cell_type": "markdown",
   "metadata": {},
   "source": [
    "We will first perform a similar procedure as above where we mask phyla outside the top 5 most abundant as \"Other/Unspecified\". Then we will assign the order of the top 5 phyla in increasing median mean pH."
   ]
  },
  {
   "cell_type": "code",
   "execution_count": 27,
   "metadata": {},
   "outputs": [],
   "source": [
    "other_phyla = [x for x in ph_taxonomy[\"taxonomy_1\"].unique() if x not in top_5_phyla]\n",
    "ph_phyla_mean_df = ph_taxonomy.copy()[[\"taxonomy_1\", \"arithmetic_mean\"]]\n",
    "ph_phyla_mean_df[\"taxonomy_1\"] = ph_phyla_mean_df[\"taxonomy_1\"].replace({x: \"Other/Unspecified\" for x in other_phyla})\n",
    "ph_phyla_mean_df = ph_phyla_mean_df.dropna()\n",
    "order = ph_phyla_mean_df.groupby(\"taxonomy_1\").median().sort_values(by=\"arithmetic_mean\", ascending=True).index.tolist()\n",
    "order.remove(\"Other/Unspecified\") # want Other/Unspecified to appear last\n",
    "order.append(\"Other/Unspecified\")"
   ]
  },
  {
   "cell_type": "code",
   "execution_count": 28,
   "metadata": {},
   "outputs": [
    {
     "data": {
      "image/png": "[encoded data removed]",
      "text/plain": [
       "<Figure size 432x576 with 7 Axes>"
      ]
     },
     "metadata": {
      "needs_background": "light"
     },
     "output_type": "display_data"
    }
   ],
   "source": [
    "fig, axs = plt.subplots(6, 1, figsize=(6, 8), sharex=True)\n",
    "plt.subplots_adjust(hspace=0.1)\n",
    "order_dict = dict(zip(order, np.arange(len(order))))\n",
    "\n",
    "ph_phyla_mean_df[\"rank\"] = ph_phyla_mean_df[\"taxonomy_1\"].map(order_dict)\n",
    "ph_phyla_mean_df = ph_phyla_mean_df.sort_values(by=\"rank\", ascending=True)\n",
    "\n",
    "palette = dict(zip(\n",
    "    [       \n",
    "        \"Other/Unspecified\",\n",
    "        \"p__Bacteroidetes\",\n",
    "        \"p__Chloroflexi\",\n",
    "        \"p__Firmicutes\",\n",
    "        \"p__Planctomycetes\",\n",
    "        \"p__Proteobacteria\",\n",
    "    ],\n",
    "    sns.color_palette(\"Dark2\", 6))\n",
    ")\n",
    "\n",
    "for i, ax in enumerate(axs.flatten()):\n",
    "    p = order[i]\n",
    "    vals = ph_phyla_mean_df[ph_phyla_mean_df[\"taxonomy_1\"] == p][\"arithmetic_mean\"]\n",
    "    _g = ax.hist(\n",
    "        vals,\n",
    "        bins=50,\n",
    "        color=palette[p],\n",
    "    )\n",
    "    ax.axvline(x = np.median(vals), color=\"black\", linestyle=\"--\")\n",
    "    if i != 5: ax.xaxis.set_visible(False)\n",
    "        \n",
    "    _name = p\n",
    "    if _name.startswith(\"p__\"): _name = _name[3:]\n",
    "    ax.text(\n",
    "        x=0.05,\n",
    "        y=0.9,\n",
    "        s=f\"{_name}\",\n",
    "        color=palette[p],\n",
    "        ha=\"left\",\n",
    "        va=\"top\",\n",
    "        fontweight=\"bold\",\n",
    "        transform=ax.transAxes,\n",
    "        fontsize=14,\n",
    "    )\n",
    "    \n",
    "    _y1, _y2 = ax.get_ylim()    \n",
    "    ax.set_ylim([_y1, _y2*1.5])\n",
    "    \n",
    "    ax.set_yticks([0, _g[0].max()])\n",
    "    ax.set_yticklabels(map(int, [0, _g[0].max()]), fontsize=14)\n",
    "    ax.tick_params(\"x\", labelsize=14)\n",
    "\n",
    "fig.add_subplot(111, frameon=False)\n",
    "# hide tick and tick label of the big axes\n",
    "plt.tick_params(labelcolor='none', top=False, bottom=False, left=False, right=False)\n",
    "plt.grid(False)\n",
    "plt.ylabel(\"Number of Features\", fontsize=20, labelpad=20)\n",
    "plt.xlabel(\"Mean pH\", fontsize=20)\n",
    "\n",
    "plt.savefig(\"fig1/output/mean_ph_hist.svg\", dpi=300, bbox_inches=\"tight\")\n",
    "\n",
    "plt.show()"
   ]
  },
  {
   "cell_type": "code",
   "execution_count": null,
   "metadata": {},
   "outputs": [],
   "source": []
  }
 ],
 "metadata": {
  "kernelspec": {
   "display_name": "Python 3",
   "language": "python",
   "name": "python3"
  },
  "language_info": {
   "codemirror_mode": {
    "name": "ipython",
    "version": 3
   },
   "file_extension": ".py",
   "mimetype": "text/x-python",
   "name": "python",
   "nbconvert_exporter": "python",
   "pygments_lexer": "ipython3",
   "version": "3.6.10"
  }
 },
 "nbformat": 4,
 "nbformat_minor": 4
}
